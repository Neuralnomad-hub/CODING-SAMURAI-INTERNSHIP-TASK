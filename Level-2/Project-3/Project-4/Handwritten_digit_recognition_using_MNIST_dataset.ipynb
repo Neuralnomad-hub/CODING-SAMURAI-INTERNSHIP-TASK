{
  "nbformat": 4,
  "nbformat_minor": 0,
  "metadata": {
    "colab": {
      "provenance": [],
      "authorship_tag": "ABX9TyPUheS7xAE8pjUcaw9Uf8NV",
      "include_colab_link": true
    },
    "kernelspec": {
      "name": "python3",
      "display_name": "Python 3"
    },
    "language_info": {
      "name": "python"
    }
  },
  "cells": [
    {
      "cell_type": "markdown",
      "metadata": {
        "id": "view-in-github",
        "colab_type": "text"
      },
      "source": [
        "<a href=\"https://colab.research.google.com/github/Neuralnomad-hub/CODING-SAMURAI-INTERNSHIP-TASK/blob/main/Handwritten_digit_recognition_using_MNIST_dataset.ipynb\" target=\"_parent\"><img src=\"https://colab.research.google.com/assets/colab-badge.svg\" alt=\"Open In Colab\"/></a>"
      ]
    },
    {
      "cell_type": "code",
      "execution_count": 12,
      "metadata": {
        "colab": {
          "base_uri": "https://localhost:8080/",
          "height": 1000
        },
        "id": "IIugZbctOmmg",
        "outputId": "e8fbacf5-42ae-4e28-f21e-1026b68b3183"
      },
      "outputs": [
        {
          "output_type": "stream",
          "name": "stdout",
          "text": [
            "digit [  0   0   0   0   0   0   0   0   0   0   0   0   0   0   0   0   0   0\n",
            "   0   0   0   0   0   0   0   0   0   0   0   0   0   0   0   0   0   0\n",
            "   0   0   0   0   0   0   0   0   0   0   0   0   0   0   0   0   0   0\n",
            "   0   0   0   0   0   0   0   0   0   0   0   0   0   0   0   0   0   0\n",
            "   0   0   0   0   0   0   0   0   0   0   0   0   0   0   0   0   0   0\n",
            "   0   0   0   0   0   0   0   0   0   0   0   0   0   0   0   0   0   0\n",
            "   0   0   0   0   0   0   0   0   0   0   0   0   0   0   0   0  57 243\n",
            " 196 128   6   0   0   0   0   0   0   0   0   0   0   0   0   0   0   0\n",
            "   0   0   0   0   0   0   0 119 238 253 253 254 180  10   0   0   0   0\n",
            "   0   0   0   0   0   0   0   0   0   0   0   0   0   0   0   9  72 235\n",
            " 253 253 253 254 253 194  53   0   0   0   0   0   0   0   0   0   0   0\n",
            "   0   0   0   0   0   0   0  61 253 237 205 249 253 254 253 253 174  14\n",
            "   0   0   0   0   0   0   0   0   0   0   0   0   0   0   0   0   0 147\n",
            " 253  82   0  66 216 254 253 253 253 158   0   0   0   0   0   0   0   0\n",
            "   0   0   0   0   0   0   0   0  73 236 198  12   0   0  29 220 253 253\n",
            " 253 239  81   0   0   0   0   0   0   0   0   0   0   0   0   0   0  30\n",
            " 238 253  83   0   0   0   0 133 253 253 253 253 205  16   0   0   0   0\n",
            "   0   0   0   0   0   0   0   0   0 141 253 230  37   0   0   0   0  19\n",
            " 115 253 253 253 253  48   0   0   0   0   0   0   0   0   0   0   0   0\n",
            "   0 157 253 193   0   0   0   0   0   0  14 160 253 253 253 157   0   0\n",
            "   0   0   0   0   0   0   0   0   0   0  12 203 253 193   0   0   0   0\n",
            "   0   0   0  19 213 253 253 250  34   0   0   0   0   0   0   0   0   0\n",
            "   0   0  25 254 254 193   0   0   0   0   0   0   0   0 170 254 254 254\n",
            "  36   0   0   0   0   0   0   0   0   0   0   0  25 253 253 193   0   0\n",
            "   0   0   0   0   0   0 101 253 253 253 105   0   0   0   0   0   0   0\n",
            "   0   0   0   0  25 253 253 230  38   0   0   0   0   0   0   0  19 209\n",
            " 253 253 139   0   0   0   0   0   0   0   0   0   0   0  25 253 253 253\n",
            " 154  10   0   0   0   0   0   0   0 182 253 237  29   0   0   0   0   0\n",
            "   0   0   0   0   0   0  25 253 253 253 253  48   0   0   0   0   0   0\n",
            "  12 199 253  82   0   0   0   0   0   0   0   0   0   0   0   0   6 145\n",
            " 253 253 253 205  62   0   0   0   0   0 141 253 232  34   0   0   0   0\n",
            "   0   0   0   0   0   0   0   0   0  25 225 253 253 253 235 154  86  41\n",
            "   9 103 238 253 140   0   0   0   0   0   0   0   0   0   0   0   0   0\n",
            "   0   0  24 145 253 253 253 253 253 236 221 253 253 155   9   0   0   0\n",
            "   0   0   0   0   0   0   0   0   0   0   0   0   0   6 147 253 253 253\n",
            " 253 254 253 238  64   7   0   0   0   0   0   0   0   0   0   0   0   0\n",
            "   0   0   0   0   0   0   4 110 236 253 195 132 121  10   0   0   0   0\n",
            "   0   0   0   0   0   0   0   0   0   0   0   0   0   0   0   0   0   0\n",
            "   0   0   0   0   0   0   0   0   0   0   0   0   0   0   0   0   0   0\n",
            "   0   0   0   0   0   0   0   0   0   0   0   0   0   0   0   0   0   0\n",
            "   0   0   0   0   0   0   0   0   0   0   0   0   0   0   0   0   0   0\n",
            "   0   0   0   0   0   0   0   0   0   0   0   0   0   0   0   0   0   0\n",
            "   0   0   0   0   0   0   0   0   0   0   0   0   0   0   0   0   0   0\n",
            "   0   0   0   0   0   0   0   0   0   0]\n"
          ]
        },
        {
          "output_type": "display_data",
          "data": {
            "text/plain": [
              "<Figure size 640x480 with 1 Axes>"
            ],
            "image/png": "[encoded data removed]"
          },
          "metadata": {}
        },
        {
          "output_type": "stream",
          "name": "stdout",
          "text": [
            "output digit 0\n",
            "The cross validatiopn score are: [0.9805 0.9805 0.9795]\n"
          ]
        }
      ],
      "source": [
        "from sklearn.datasets import fetch_openml\n",
        "import matplotlib.pyplot as plt\n",
        "import matplotlib as mpl\n",
        "import numpy as np\n",
        "from sklearn.linear_model import LogisticRegression\n",
        "mnist = fetch_openml('mnist_784')\n",
        "x, y = mnist[\"data\"], mnist[\"target\"]\n",
        "x = x.to_numpy()\n",
        "y = y.to_numpy()\n",
        "x_train, x_test = x[:6000], x[6000:]\n",
        "y_train, y_test = y[:6000], y[6000:]\n",
        "shuffle_index = np.random.permutation(len(x_train))\n",
        "x_train, y_train = x_train[shuffle_index], y_train[shuffle_index]\n",
        "\n",
        "digit_index = shuffle_index[0]\n",
        "digit = x_train[0]\n",
        "\n",
        "print(\"digit\", digit)\n",
        "digit_image = digit.reshape(28, 28)\n",
        "plt.imshow(digit_image, cmap=mpl.cm.binary, interpolation=\"nearest\")\n",
        "plt.show()\n",
        "\n",
        "print(\"output digit\", y_train[0])\n",
        "y_train = y_train.astype(np.int8)\n",
        "y_test = y_test.astype(np.int8)\n",
        "y_train_number = (y_train == 6)\n",
        "y_test_number = (y_test == 6)\n",
        "clp = LogisticRegression(tol=0.1)\n",
        "clp.fit(x_train, y_train_number)\n",
        "clp.predict([digit])\n",
        "#cross vallidation\n",
        "from sklearn.model_selection import cross_val_score\n",
        "f=cross_val_score(clp, x_train, y_train_number, cv=3, scoring=\"accuracy\")\n",
        "print(\"The cross validation score are:\",f)"
      ]
    },
    {
      "cell_type": "code",
      "source": [
        "%pip install scikit-learn"
      ],
      "metadata": {
        "colab": {
          "base_uri": "https://localhost:8080/"
        },
        "id": "EIFxtjr8Pc-B",
        "outputId": "424868ec-17cf-47b3-fda0-125bda7160e7"
      },
      "execution_count": 3,
      "outputs": [
        {
          "output_type": "stream",
          "name": "stdout",
          "text": [
            "Requirement already satisfied: scikit-learn in /usr/local/lib/python3.11/dist-packages (1.6.1)\n",
            "Requirement already satisfied: numpy>=1.19.5 in /usr/local/lib/python3.11/dist-packages (from scikit-learn) (2.0.2)\n",
            "Requirement already satisfied: scipy>=1.6.0 in /usr/local/lib/python3.11/dist-packages (from scikit-learn) (1.15.3)\n",
            "Requirement already satisfied: joblib>=1.2.0 in /usr/local/lib/python3.11/dist-packages (from scikit-learn) (1.5.1)\n",
            "Requirement already satisfied: threadpoolctl>=3.1.0 in /usr/local/lib/python3.11/dist-packages (from scikit-learn) (3.6.0)\n"
          ]
        }
      ]
    }
  ]
}