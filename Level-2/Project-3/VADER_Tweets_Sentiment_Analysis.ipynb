{
 "cells": [
  {
   "cell_type": "markdown",
   "id": "478dc8b1",
   "metadata": {},
   "source": [
    "# VADER-Based Sentiment Analysis on Tweets\n",
    "This notebook analyzes tweet sentiments using the VADER sentiment analyzer from NLTK."
   ]
  },
  {
   "cell_type": "code",
   "execution_count": null,
   "id": "ce83da1a",
   "metadata": {},
   "outputs": [],
   "source": [
    "import numpy as np\n",
    "import seaborn as sns\n",
    "import pandas as pd\n",
    "import nltk\n",
    "import matplotlib.pyplot as plt\n",
    "from nltk.sentiment import SentimentIntensityAnalyzer\n",
    "from tqdm.notebook import tqdm\n",
    "\n",
    "plt.style.use(\"ggplot\")"
   ]
  },
  {
   "cell_type": "code",
   "execution_count": null,
   "id": "7b36ea93",
   "metadata": {},
   "outputs": [],
   "source": [
    "# Load the dataset\n",
    "df = pd.read_csv(\"twitter_data_500.csv\", header=None, names=[\"textID\", \"text\"])\n",
    "print(df.head())"
   ]
  },
  {
   "cell_type": "code",
   "execution_count": null,
   "id": "1a6a7cdc",
   "metadata": {},
   "outputs": [],
   "source": [
    "nltk.download(\"vader_lexicon\")"
   ]
  },
  {
   "cell_type": "code",
   "execution_count": null,
   "id": "f9d3c31a",
   "metadata": {},
   "outputs": [],
   "source": [
    "# Initialize VADER sentiment analyzer\n",
    "sia = SentimentIntensityAnalyzer()\n",
    "\n",
    "# Analyze each tweet and store results\n",
    "results = {}\n",
    "for i, row in tqdm(df.iterrows(), total=len(df)):\n",
    "    text = row['text']\n",
    "    myid = row['textID']\n",
    "    if isinstance(text, str):\n",
    "        results[myid] = sia.polarity_scores(text)\n",
    "    else:\n",
    "        results[myid] = {\"neg\": 0, \"neu\": 0, \"pos\": 0, \"compound\": 0}"
   ]
  },
  {
   "cell_type": "code",
   "execution_count": null,
   "id": "14d391ab",
   "metadata": {},
   "outputs": [],
   "source": [
    "# Convert the results to DataFrame\n",
    "vader = pd.DataFrame(results).T\n",
    "vader = vader.reset_index().rename(columns={\"index\": \"textID\"})\n",
    "vader = vader.merge(df, on=\"textID\", how=\"left\")\n",
    "\n",
    "# Labeling sentiment based on compound score\n",
    "vader['Label'] = vader['compound'].apply(lambda c: 'positive' if c >= 0.05 else ('negative' if c <= -0.05 else 'neutral'))\n",
    "print(vader.head())"
   ]
  },
  {
   "cell_type": "code",
   "execution_count": null,
   "id": "27f188ee",
   "metadata": {},
   "outputs": [],
   "source": [
    "# Visualize sentiment distribution\n",
    "fig, axs = plt.subplots(1, 3, figsize=(15, 4))\n",
    "sns.barplot(data=vader, x=\"Label\", y=\"pos\", ax=axs[0])\n",
    "sns.barplot(data=vader, x=\"Label\", y=\"neu\", ax=axs[1])\n",
    "sns.barplot(data=vader, x=\"Label\", y=\"neg\", ax=axs[2])\n",
    "\n",
    "axs[0].set_title(\"Positive\")\n",
    "axs[1].set_title(\"Neutral\")\n",
    "axs[2].set_title(\"Negative\")\n",
    "plt.tight_layout()\n",
    "plt.show()"
   ]
  }
 ],
 "metadata": {},
 "nbformat": 4,
 "nbformat_minor": 5
}
